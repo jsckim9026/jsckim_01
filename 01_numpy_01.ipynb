{
 "cells": [
  {
   "cell_type": "code",
   "execution_count": 6,
   "metadata": {},
   "outputs": [
    {
     "name": "stdout",
     "output_type": "stream",
     "text": [
      "hellowworld\n",
      "a:3 b:4 c:7\n",
      "[[1. 0. 0. 0.]\n",
      " [0. 1. 0. 0.]\n",
      " [0. 0. 1. 0.]\n",
      " [0. 0. 0. 1.]]\n"
     ]
    }
   ],
   "source": [
    "msg=\"hellowworld\"\n",
    "print(msg)\n",
    "a=3\n",
    "b=4\n",
    "c=a+b\n",
    "print(\"a:{} b:{} c:{}\".format(a,b,c))\n",
    "import numpy as np\n",
    "a=np.eye(4)\n",
    "print (a)\n"
   ]
  }
 ],
 "metadata": {
  "interpreter": {
   "hash": "74692459dad30d7f0ae03dab181237fcde8a26910ead8f4083581d4d1333cbfb"
  },
  "kernelspec": {
   "display_name": "Python 3.9.10 64-bit (windows store)",
   "language": "python",
   "name": "python3"
  },
  "language_info": {
   "codemirror_mode": {
    "name": "ipython",
    "version": 3
   },
   "file_extension": ".py",
   "mimetype": "text/x-python",
   "name": "python",
   "nbconvert_exporter": "python",
   "pygments_lexer": "ipython3",
   "version": "3.9.10"
  },
  "orig_nbformat": 4
 },
 "nbformat": 4,
 "nbformat_minor": 2
}
