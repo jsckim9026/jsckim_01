{
  "cells": [
    {
      "cell_type": "markdown",
      "metadata": {
        "id": "view-in-github",
        "colab_type": "text"
      },
      "source": [
        "<a href=\"https://colab.research.google.com/github/jsckim9026/jsckim_01/blob/main/jsckim_DA02_03_mean_variance_sin_function.ipynb\" target=\"_parent\"><img src=\"https://colab.research.google.com/assets/colab-badge.svg\" alt=\"Open In Colab\"/></a>"
      ]
    },
    {
      "cell_type": "code",
      "execution_count": null,
      "metadata": {
        "colab": {
          "base_uri": "https://localhost:8080/"
        },
        "id": "y6el-enQDs1h",
        "outputId": "1ece390d-422a-4e90-a8b8-21b543017d1b"
      },
      "outputs": [
        {
          "output_type": "stream",
          "name": "stdout",
          "text": [
            "Mounted at /content/gdrive/\n",
            "/content/gdrive/MyDrive/TimeSeriesDataAnalysis/\n",
            "current dir =  /content/gdrive/MyDrive/TimeSeriesDataAnalysis/JupiterNoteBook\n"
          ]
        }
      ],
      "source": [
        "from google.colab import drive\n",
        "drive.mount('/content/gdrive/')\n",
        "import os\n",
        "working_dir='JupiterNoteBook'\n",
        "colab_default_dir='/content/gdrive/MyDrive/TimeSeriesDataAnalysis/'\n",
        "original_dir=os.getcwd()\n",
        "try:\n",
        "  os.chdir(colab_default_dir)\n",
        "  print(str(colab_default_dir))\n",
        "  if not os.path.exists(working_dir):\n",
        "    os.mkdir(working_dir)\n",
        "  os.chdir(working_dir)\n",
        "  print('current dir = ',os.getcwd())\n",
        "except Exception as err:\n",
        "  os.chdir(original_dir)\n",
        "  print(str(err))"
      ]
    },
    {
      "cell_type": "code",
      "execution_count": null,
      "metadata": {
        "id": "sdChD32XErOA"
      },
      "outputs": [],
      "source": [
        "#!pip3 install import_ipynb\n",
        "import numpy as np\n",
        "#import import_ipynb\n",
        "import time\n",
        "import matplotlib.pyplot as plt\n",
        "plt.style.use('_mpl-gallery')"
      ]
    },
    {
      "cell_type": "code",
      "execution_count": null,
      "metadata": {
        "id": "mfnLD8JAwZFx"
      },
      "outputs": [],
      "source": [
        "#function jsckim_DA02_mean_variance_sin_function()\n",
        "#sigma=4.0;\n",
        "#mu=2.0;\n",
        "x=np.arange(-0.99,1.,0.01)\n",
        "delx=0.01;\n",
        "N=np.shape(x)[0]\n",
        "print('N= ', N)\n",
        "f=np.zeros(N)\n",
        "sum_mu=0;\n",
        "sum_sigma2=0;\n",
        "\n",
        "for i in range(0,N):\n",
        "  f[i]=1./(np.pi*np.sqrt(1-np.power(x[i],2)))\n",
        "  print('i, x[i],f=',i,x[i],f[i])\n",
        "#  f[i]=1.\n",
        "#  tmp1=1./np.sqrt(2*np.pi*np.power(sigma,2))\n",
        "#  tmp2=-0.5*(np.power((x[i]-mu)/sigma,2))\n",
        "#  f[i]=tmp1*np.exp(tmp2)\n",
        "x_width01=5\n",
        "y_width01=5\n",
        "fig01=plt.figure(figsize=(x_width01,y_width01))\n",
        "fig1=fig01.subplots()\n",
        "l1=fig1.plot(x,f,'-.o')\n",
        "fig1.set_xlabel('x')\n",
        "fig1.set_ylabel('f')\n",
        "fig1.set_title(' x-f : DA02_mean_variance_sin')\n",
        "fig1.legend((l1), ('f'), loc='upper right', shadow=True)\n",
        "\n",
        "for i in range(0,N-1):\n",
        "    sum_mu=sum_mu+0.5*(x[i]*f[i]+x[i+1]*f[i+1])*delx\n",
        "mu_out=sum_mu\n",
        "for  i in range(0,N-1):\n",
        "    sum_sigma2=sum_sigma2 +0.5*(np.power((x[i]-mu_out),2)*f[i]+np.power((x[i+1]-mu_out),2)*f[i+1])*delx\n",
        "variance_out=sum_sigma2\n",
        "sigma_out=np.sqrt(sum_sigma2)\n",
        "mu_out_text      =\"mu_out  =   {pp:.7f}\"\n",
        "sigma_out_text   ='sigma_out    ={pp:7f}'\n",
        "variance_out_text='variance_out = {pp:7f}'\n",
        "\n",
        "print('mu_out_text=',mu_out_text.format(pp=mu_out))\n",
        "print('sigma_out_text=',sigma_out_text.format(pp=sigma_out))\n",
        "print('variance_out_text=',variance_out_text.format(pp=variance_out))\n",
        "text_x=-0.2\n",
        "text_y=1.5\n",
        "text_dely=0.1\n",
        "fig1.text(text_x,text_y,mu_out_text.format(pp=mu_out))\n",
        "text_y=text_y-text_dely\n",
        "fig1.text(text_x,text_y,sigma_out_text.format(pp=sigma_out))\n",
        "text_y=text_y-text_dely\n",
        "fig1.text(text_x,text_y,variance_out_text.format(pp=variance_out))\n",
        "plt.savefig('Fig_02_sin_01.png',format='png',bbox_inches='tight',pad_inches=0.1)\n",
        "plt.show()\n",
        "print('mu_out=',mu_out)\n",
        "print('sigma_out=',sigma_out)\n",
        "print('variance_out=',variance_out)\n",
        "\n",
        "\n"
      ]
    }
  ],
  "metadata": {
    "colab": {
      "provenance": [],
      "include_colab_link": true
    },
    "kernelspec": {
      "display_name": "Python 3",
      "name": "python3"
    },
    "language_info": {
      "name": "python"
    }
  },
  "nbformat": 4,
  "nbformat_minor": 0
}