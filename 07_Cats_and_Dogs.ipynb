{
  "nbformat": 4,
  "nbformat_minor": 0,
  "metadata": {
    "colab": {
      "name": "07_Cats and Dogs.ipynb",
      "provenance": [],
      "mount_file_id": "1MAPvR_BbqkXce743mhZN-ZtSN1ZAud37",
      "authorship_tag": "ABX9TyMRff7uBx2epRsJBp/qfUXm",
      "include_colab_link": true
    },
    "kernelspec": {
      "name": "python3",
      "display_name": "Python 3"
    },
    "language_info": {
      "name": "python"
    }
  },
  "cells": [
    {
      "cell_type": "markdown",
      "metadata": {
        "id": "view-in-github",
        "colab_type": "text"
      },
      "source": [
        "<a href=\"https://colab.research.google.com/github/jsckim9026/jsckim_01/blob/main/07_Cats_and_Dogs.ipynb\" target=\"_parent\"><img src=\"https://colab.research.google.com/assets/colab-badge.svg\" alt=\"Open In Colab\"/></a>"
      ]
    },
    {
      "cell_type": "code",
      "execution_count": null,
      "metadata": {
        "colab": {
          "base_uri": "https://localhost:8080/"
        },
        "id": "LaQPehb2fCdF",
        "outputId": "cc1730d1-831a-475b-b97f-e6189307ec40"
      },
      "outputs": [
        {
          "output_type": "stream",
          "name": "stdout",
          "text": [
            "2.7.0\n"
          ]
        }
      ],
      "source": [
        "import tensorflow as tf\n",
        "from tensorflow.keras.models import Sequential\n",
        "from tensorflow.keras.applications import Xception\n",
        "from tensorflow.keras.layers import Flatten,Dense,Dropout,GlobalAveragePooling2D\n",
        "from tensorflow.keras.preprocessing.image import ImageDataGenerator\n",
        "from tensorflow.keras.optimizers import Adam\n",
        "import matplotlib.pyplot as plt\n",
        "import numpy as np\n",
        "print(tf.__version__ )\n"
      ]
    },
    {
      "cell_type": "code",
      "source": [
        "from google.colab import drive\n",
        "drive.mount('/content/gdrive/')\n",
        "import os\n",
        "import shutil\n",
        "#working_dir='dataset'\n",
        "#colab_default_dir='/content/gdrive/MyDrive/Colab Notebooks/'\n",
        "original_dir=os.getcwd()\n",
        "print('current dir = ',os.getcwd())\n",
        "print('orginal dir = ',str(original_dir))"
      ],
      "metadata": {
        "colab": {
          "base_uri": "https://localhost:8080/"
        },
        "id": "iVEZLLb8fJB9",
        "outputId": "4743d7f7-8f8f-4c88-d322-d2b686baebfe"
      },
      "execution_count": null,
      "outputs": [
        {
          "output_type": "stream",
          "name": "stdout",
          "text": [
            "Mounted at /content/gdrive/\n",
            "current dir =  /content\n",
            "orginal dir =  /content\n"
          ]
        }
      ]
    },
    {
      "cell_type": "code",
      "source": [
        "#!wget https://storage.googleapis.com/mledu-datasets/cats_and_dogs_filtered.zip\n"
      ],
      "metadata": {
        "id": "r9nP5fJXgbyi"
      },
      "execution_count": null,
      "outputs": []
    },
    {
      "cell_type": "code",
      "source": [
        "#import zipfile\n",
        "#with zipfile.ZipFile('/content/cats_and_dogs_filtered.zip','r') as target_file:\n",
        "#  target_file.extractall('/content/gdrive/MyDrive/Colab Notebooks/dataset/cats_dogs_filtered/')\n",
        "  #target_file.extractall('/content/cats_dogs_filtered/')"
      ],
      "metadata": {
        "id": "ayOwlqjNhHhx"
      },
      "execution_count": null,
      "outputs": []
    },
    {
      "cell_type": "code",
      "source": [
        "IMG_WIDTH=224 \n",
        "IMG_HEIGHT=224 \n",
        "base_model=Xception(weights='imagenet',include_top=False, input_shape=(IMG_WIDTH,IMG_HEIGHT,3))\n",
        "model=Sequential()\n",
        "model.add(base_model)\n",
        "model.add(GlobalAveragePooling2D())\n",
        "model.add(Dense(16,activation='relu'))\n",
        "model.add(Dropout(0.25))\n",
        "model.add(Dense(2,activation='softmax'))\n",
        "model.summary()"
      ],
      "metadata": {
        "colab": {
          "base_uri": "https://localhost:8080/"
        },
        "id": "oF4aC6I_j4Eh",
        "outputId": "34a78400-71ad-43e5-ca4c-a378455a064b"
      },
      "execution_count": null,
      "outputs": [
        {
          "output_type": "stream",
          "name": "stdout",
          "text": [
            "Downloading data from https://storage.googleapis.com/tensorflow/keras-applications/xception/xception_weights_tf_dim_ordering_tf_kernels_notop.h5\n",
            "83689472/83683744 [==============================] - 1s 0us/step\n",
            "83697664/83683744 [==============================] - 1s 0us/step\n",
            "Model: \"sequential\"\n",
            "_________________________________________________________________\n",
            " Layer (type)                Output Shape              Param #   \n",
            "=================================================================\n",
            " xception (Functional)       (None, 7, 7, 2048)        20861480  \n",
            "                                                                 \n",
            " global_average_pooling2d (G  (None, 2048)             0         \n",
            " lobalAveragePooling2D)                                          \n",
            "                                                                 \n",
            " dense (Dense)               (None, 16)                32784     \n",
            "                                                                 \n",
            " dropout (Dropout)           (None, 16)                0         \n",
            "                                                                 \n",
            " dense_1 (Dense)             (None, 2)                 34        \n",
            "                                                                 \n",
            "=================================================================\n",
            "Total params: 20,894,298\n",
            "Trainable params: 20,839,770\n",
            "Non-trainable params: 54,528\n",
            "_________________________________________________________________\n"
          ]
        }
      ]
    },
    {
      "cell_type": "code",
      "source": [
        "\n",
        "path_tmp='/content/gdrive/MyDrive/Colab Notebooks/dataset/cats_dogs_filtered/cats_and_dogs_filtered'\n",
        "train_dir=os.path.join(path_tmp,'train')\n",
        "test_dir=os.path.join(path_tmp,'validation')\n",
        "print(train_dir)\n",
        "\n",
        "train_data_gen=ImageDataGenerator(rescale=1./255,\n",
        "                                  rotation_range=10,width_shift_range=0.1,\n",
        "                                  height_shift_range=0.1,shear_range=0.1,zoom_range=0.1)\n",
        "test_data_gen=ImageDataGenerator(rescale=1./255)\n",
        "train_data=train_data_gen.flow_from_directory(train_dir,batch_size=32,\n",
        "                                         color_mode='rgb',shuffle=True,class_mode='categorical',\n",
        "                                         target_size=(IMG_WIDTH,IMG_HEIGHT))\n",
        "test_data=train_data_gen.flow_from_directory(test_dir,batch_size=32,\n",
        "                                         color_mode='rgb',shuffle=True,class_mode='categorical',\n",
        "                                         target_size=(IMG_WIDTH,IMG_HEIGHT))"
      ],
      "metadata": {
        "colab": {
          "base_uri": "https://localhost:8080/"
        },
        "id": "ASv31OA4EKbA",
        "outputId": "f6a9ee21-2a29-4472-a6cd-eca7198c804a"
      },
      "execution_count": null,
      "outputs": [
        {
          "output_type": "stream",
          "name": "stdout",
          "text": [
            "/content/gdrive/MyDrive/Colab Notebooks/dataset/cats_dogs_filtered/cats_and_dogs_filtered/train\n",
            "Found 1999 images belonging to 2 classes.\n",
            "Found 1000 images belonging to 2 classes.\n"
          ]
        }
      ]
    },
    {
      "cell_type": "code",
      "source": [
        "print(train_data.class_indices.items())\n",
        "print(test_data.class_indices.items())"
      ],
      "metadata": {
        "colab": {
          "base_uri": "https://localhost:8080/"
        },
        "id": "Ym-8C6UHGwio",
        "outputId": "bd3f04a5-563c-4820-b0e3-0087b0b7bc21"
      },
      "execution_count": null,
      "outputs": [
        {
          "output_type": "stream",
          "name": "stdout",
          "text": [
            "dict_items([('cats', 0), ('dogs', 1)])\n",
            "dict_items([('cats', 0), ('dogs', 1)])\n"
          ]
        }
      ]
    },
    {
      "cell_type": "code",
      "source": [
        "print(type(train_data))\n",
        "print(type(train_data[0]))"
      ],
      "metadata": {
        "colab": {
          "base_uri": "https://localhost:8080/"
        },
        "id": "HFIiU9ACka0t",
        "outputId": "862df117-1d68-459d-efd4-6e4e45d1bff7"
      },
      "execution_count": null,
      "outputs": [
        {
          "output_type": "stream",
          "name": "stdout",
          "text": [
            "<class 'keras.preprocessing.image.DirectoryIterator'>\n",
            "<class 'tuple'>\n"
          ]
        }
      ]
    },
    {
      "cell_type": "code",
      "source": [
        "#import matplotlib.pyplot as plt\n",
        "#import matplotlib.cm as cm\n",
        "#plt.figure(figsize=(10,10))\n",
        "#for index in range(25):\n",
        "  #plt.subplot(5,5,index+1)\n",
        "  #plt.imshow(train_data[index].numpy(),cmap=cm.winter)\n",
        "  #plt.axis('off')\n",
        "#plt.show()"
      ],
      "metadata": {
        "id": "7X8HBhK7QNjZ"
      },
      "execution_count": null,
      "outputs": []
    },
    {
      "cell_type": "code",
      "source": [
        "import PIL\n",
        "from pathlib import Path\n",
        "from PIL import UnidentifiedImageError\n",
        "#/content/gdrive/MyDrive/Colab Notebooks/dataset/cats_dogs_filtered/cats_and_dogs_filtered/train/cats/cat.0.jpg\n",
        "path = Path(\"/content/gdrive/MyDrive/Colab Notebooks/dataset/cats_dogs_filtered/cats_and_dogs_filtered/train/cats\").rglob(\"*.jpg\")\n",
        "for img_p in path:\n",
        "    try:\n",
        "        img = PIL.Image.open(img_p)\n",
        "    except PIL.UnidentifiedImageError:\n",
        "            print(img_p)\n",
        "            \n",
        "path = Path(\"/content/gdrive/MyDrive/Colab Notebooks/dataset/cats_dogs_filtered/cats_and_dogs_filtered/train/dogs\").rglob(\"*.jpg\")\n",
        "for img_p in path:\n",
        "    try:\n",
        "        img = PIL.Image.open(img_p)\n",
        "    except PIL.UnidentifiedImageError:\n",
        "            print(img_p)"
      ],
      "metadata": {
        "id": "b6rqD9g70Omx"
      },
      "execution_count": null,
      "outputs": []
    },
    {
      "cell_type": "code",
      "source": [
        "model.compile(loss='categorical_crossentropy',optimizer=Adam(2e-5),metrics=['accuracy'])\n",
        "from datetime import datetime\n",
        "from tensorflow.keras.callbacks import ModelCheckpoint, EarlyStopping\n",
        "save_file_name='/content/gdrive/MyDrive/Colab Notebooks/cats_and_dogs_filtered_Xception_Colab.h5'\n",
        "checkpoint=ModelCheckpoint(save_file_name, monitor='val_loss',\n",
        "                           verbose=1,save_best_only=True,mode='auto')\n",
        "earlystopping=EarlyStopping(monitor='val_loss',patience=5)\n",
        "hist=model.fit(train_data,epochs=30,validation_data=test_data,callbacks=[checkpoint,earlystopping])"
      ],
      "metadata": {
        "colab": {
          "base_uri": "https://localhost:8080/",
          "height": 248
        },
        "id": "7r1eM7b-HG5o",
        "outputId": "a02f507b-3322-4e12-dc18-5450c9daa907"
      },
      "execution_count": null,
      "outputs": [
        {
          "output_type": "error",
          "ename": "NameError",
          "evalue": "ignored",
          "traceback": [
            "\u001b[0;31m---------------------------------------------------------------------------\u001b[0m",
            "\u001b[0;31mNameError\u001b[0m                                 Traceback (most recent call last)",
            "\u001b[0;32m<ipython-input-1-2aa0b1fc9a66>\u001b[0m in \u001b[0;36m<module>\u001b[0;34m()\u001b[0m\n\u001b[0;32m----> 1\u001b[0;31m \u001b[0mmodel\u001b[0m\u001b[0;34m.\u001b[0m\u001b[0mcompile\u001b[0m\u001b[0;34m(\u001b[0m\u001b[0mloss\u001b[0m\u001b[0;34m=\u001b[0m\u001b[0;34m'categorical_crossentropy'\u001b[0m\u001b[0;34m,\u001b[0m\u001b[0moptimizer\u001b[0m\u001b[0;34m=\u001b[0m\u001b[0mAdam\u001b[0m\u001b[0;34m(\u001b[0m\u001b[0;36m2e-5\u001b[0m\u001b[0;34m)\u001b[0m\u001b[0;34m,\u001b[0m\u001b[0mmetrics\u001b[0m\u001b[0;34m=\u001b[0m\u001b[0;34m[\u001b[0m\u001b[0;34m'accuracy'\u001b[0m\u001b[0;34m]\u001b[0m\u001b[0;34m)\u001b[0m\u001b[0;34m\u001b[0m\u001b[0;34m\u001b[0m\u001b[0m\n\u001b[0m\u001b[1;32m      2\u001b[0m \u001b[0;32mfrom\u001b[0m \u001b[0mdatetime\u001b[0m \u001b[0;32mimport\u001b[0m \u001b[0mdatetime\u001b[0m\u001b[0;34m\u001b[0m\u001b[0;34m\u001b[0m\u001b[0m\n\u001b[1;32m      3\u001b[0m \u001b[0;32mfrom\u001b[0m \u001b[0mtensorflow\u001b[0m\u001b[0;34m.\u001b[0m\u001b[0mkeras\u001b[0m\u001b[0;34m.\u001b[0m\u001b[0mcallbacks\u001b[0m \u001b[0;32mimport\u001b[0m \u001b[0mModelCheckpoint\u001b[0m\u001b[0;34m,\u001b[0m \u001b[0mEarlyStopping\u001b[0m\u001b[0;34m\u001b[0m\u001b[0;34m\u001b[0m\u001b[0m\n\u001b[1;32m      4\u001b[0m \u001b[0msave_file_name\u001b[0m\u001b[0;34m=\u001b[0m\u001b[0;34m'/content/gdrive/MyDrive/Colab Notebooks/cats_and_dogs_filtered_Xception_Colab.h5'\u001b[0m\u001b[0;34m\u001b[0m\u001b[0;34m\u001b[0m\u001b[0m\n\u001b[1;32m      5\u001b[0m checkpoint=ModelCheckpoint(save_file_name, monitor='val_loss',\n",
            "\u001b[0;31mNameError\u001b[0m: name 'model' is not defined"
          ]
        }
      ]
    },
    {
      "cell_type": "code",
      "source": [
        "from google.colab import drive\n",
        "drive.mount('/content/drive')"
      ],
      "metadata": {
        "id": "nxfgdk1I48pc"
      },
      "execution_count": null,
      "outputs": []
    },
    {
      "cell_type": "code",
      "source": [
        "plt.title('Loss')\n",
        "plt.xlabel('epochs')\n",
        "plt.ylabel('loss')\n",
        "plt.grid()\n",
        "plt.plot(hist.history['loss'],label='train loss')\n",
        "plt.plot(hist.history['val_loss'],label='validation loss')\n",
        "plt.legend(loc='best')\n",
        "plt.show()"
      ],
      "metadata": {
        "id": "8QuNt9JTQPnO"
      },
      "execution_count": null,
      "outputs": []
    },
    {
      "cell_type": "code",
      "source": [
        "plt.title('Accuracy')\n",
        "plt.xlabel('epochs')\n",
        "plt.ylabel('accuracy')\n",
        "plt.grid()\n",
        "plt.plot(hist.history['accuracy'],label='train accuracy')\n",
        "plt.plot(hist.history['val_accuracy'],label='validation accuracy')\n",
        "plt.legend(loc='best')\n",
        "plt.show()"
      ],
      "metadata": {
        "id": "w3AcXiejQkar"
      },
      "execution_count": null,
      "outputs": []
    },
    {
      "cell_type": "code",
      "source": [
        "import os\n",
        "import shutil\n",
        "path_test='/content/gdrive/MyDrive/Colab Notebooks/dataset/cats_dogs_filtered/cats_and_dogs_filtered'\n",
        "if os.path.exists(os.path.join(path_test,'test_image_dir/')):\n",
        "  shutil.rmtree(os.path.join(path_test,'test_image_dir/'))\n",
        "  print(' ... /test_image_dir/   is removed')\n",
        "import zipfile\n",
        "with zipfile.ZipFile(os.path.join(path_test,'test_image_dir.zip','r')) as target_file:\n",
        "  target_file.extractall(os.path.join(path_test,'test_image_dir/'))\n",
        "\n",
        "\n"
      ],
      "metadata": {
        "id": "-EnonZQfRpja"
      },
      "execution_count": null,
      "outputs": []
    },
    {
      "cell_type": "code",
      "source": [
        "import cv2\n",
        "import glob\n",
        "test_img_list=[]\n",
        "test_img_name_list=glob.glob(os.path.join(path_test,'test_image_dir/*'))\n",
        "for i in range(len(test_img_name_list)):\n",
        "  src_img=cv2.imread(test_img_name_list[i],cv2.IMREAD_COLOR)\n",
        "  src_img=cv2.resize(src_img,dsize=(IMG_WIDTH,IMG_HEIGHT)\n",
        "  dst_img=cv2.cvtColor(src_img,cv2.COLOR_BGR2RGB)\n",
        "  dst_img=dst_img/255.0\n",
        "  test_img_list.append(dst_img)\n"
      ],
      "metadata": {
        "colab": {
          "base_uri": "https://localhost:8080/",
          "height": 137
        },
        "id": "E58YSGYhTf-N",
        "outputId": "d8131c0a-9414-4736-b864-69318be331a1"
      },
      "execution_count": null,
      "outputs": [
        {
          "output_type": "error",
          "ename": "SyntaxError",
          "evalue": "ignored",
          "traceback": [
            "\u001b[0;36m  File \u001b[0;32m\"<ipython-input-20-1ba83f3dfb02>\"\u001b[0;36m, line \u001b[0;32m8\u001b[0m\n\u001b[0;31m    dst_img=cv2.cvtColor(src_img,cv2.COLOR_BGR2RGB)\u001b[0m\n\u001b[0m          ^\u001b[0m\n\u001b[0;31mSyntaxError\u001b[0m\u001b[0;31m:\u001b[0m invalid syntax\n"
          ]
        }
      ]
    },
    {
      "cell_type": "code",
      "source": [
        "plt.figure(figsize=(8,6))\n",
        "for i in range(len(test_img_list)):\n",
        "  plt.subplot(2,3,i+1)\n",
        "  plot.axis('off')\n",
        "  plt.imshow(test_img_list[i])\n",
        "plt.show()\n",
        "for i in range(len(test_img_list)):\n",
        "  print(test_img_list[i].shape)"
      ],
      "metadata": {
        "id": "DaRHIM3gV94j"
      },
      "execution_count": null,
      "outputs": []
    },
    {
      "cell_type": "code",
      "source": [
        "pres=model.predict(np.array(test_img_list))\n",
        "class_name=['cat','dog']\n",
        "plt.figure(figsize=(8,6))\n",
        "for i in range(len(pred))\n",
        "  plt.subplot(2,3,i+1)\n",
        "  predition=str(class_name[np.argmax(pred[i])])\n",
        "  probility='{0:0.2f'.format(100*max(pred[i]))\n",
        "  title_str=predition+','+probility+'%'\n",
        "  plot.axis('off')\n",
        "  plt.title(title_str)\n",
        "  plt.imshow(test_img_list[i])\n",
        "plt.show()"
      ],
      "metadata": {
        "id": "M4a8HH7kWnhB"
      },
      "execution_count": null,
      "outputs": []
    }
  ]
}